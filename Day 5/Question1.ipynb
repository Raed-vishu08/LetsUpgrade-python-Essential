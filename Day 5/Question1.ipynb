{
 "cells": [
  {
   "cell_type": "markdown",
   "metadata": {},
   "source": [
    "# Question 1\n"
   ]
  },
  {
   "cell_type": "code",
   "execution_count": 2,
   "metadata": {},
   "outputs": [
    {
     "name": "stdout",
     "output_type": "stream",
     "text": [
      "its a match\n"
     ]
    }
   ],
   "source": [
    "def sublist(a,b):\n",
    "    try:\n",
    "        return a[0] in b and sublist(a[1:],b[1+b.index(a[0]):])\n",
    "    except IndexError:\n",
    "        return True\n",
    "\n",
    "def check(lst1,lst2):\n",
    "    n=sublist(lst1,lst2)\n",
    "    if n==True:\n",
    "        print(\"its a match\")\n",
    "    else:\n",
    "        print(\"its gone\")\n",
    "        \n",
    "check([1,1,5],[1,2,6,1,5,3])        "
   ]
  },
  {
   "cell_type": "code",
   "execution_count": null,
   "metadata": {},
   "outputs": [],
   "source": []
  }
 ],
 "metadata": {
  "kernelspec": {
   "display_name": "Python 3",
   "language": "python",
   "name": "python3"
  },
  "language_info": {
   "codemirror_mode": {
    "name": "ipython",
    "version": 3
   },
   "file_extension": ".py",
   "mimetype": "text/x-python",
   "name": "python",
   "nbconvert_exporter": "python",
   "pygments_lexer": "ipython3",
   "version": "3.7.7"
  }
 },
 "nbformat": 4,
 "nbformat_minor": 4
}
