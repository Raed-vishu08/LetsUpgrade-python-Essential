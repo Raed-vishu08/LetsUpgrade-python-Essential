{
 "cells": [
  {
   "cell_type": "markdown",
   "metadata": {},
   "source": [
    "# Question 3"
   ]
  },
  {
   "cell_type": "code",
   "execution_count": null,
   "metadata": {},
   "outputs": [],
   "source": [
    "# Make a Lambda function for capitalizing the whole sentence passed using arguments.\n",
    "# And map all the sentences in the List, with the lambda functions\n",
    "\n",
    "lst = [\"hey this is vishal kumar raj\",\"i am from ranchi\"]\n",
    "\n",
    "print(\"Original list : \")\n",
    "\n",
    "print(lst)\n",
    "\n",
    "result = list(map(lambda words: \" \".join([word.capitalize() for word in words.split( )]) ,lst))\n",
    "\n",
    "print(\"Capitalized list is : \")\n",
    "\n",
    "print(result)"
   ]
  }
 ],
 "metadata": {
  "kernelspec": {
   "display_name": "Python 3",
   "language": "python",
   "name": "python3"
  },
  "language_info": {
   "codemirror_mode": {
    "name": "ipython",
    "version": 3
   },
   "file_extension": ".py",
   "mimetype": "text/x-python",
   "name": "python",
   "nbconvert_exporter": "python",
   "pygments_lexer": "ipython3",
   "version": "3.7.7"
  }
 },
 "nbformat": 4,
 "nbformat_minor": 4
}
