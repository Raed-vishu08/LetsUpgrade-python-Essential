{
 "cells": [
  {
   "cell_type": "markdown",
   "metadata": {},
   "source": [
    "# Question 1 \n",
    "\n"
   ]
  },
  {
   "cell_type": "code",
   "execution_count": null,
   "metadata": {},
   "outputs": [
    {
     "name": "stdout",
     "output_type": "stream",
     "text": [
      "\n",
      "---WELCOME TO BACK ACCOUNT PROGRAM---\n",
      "\n",
      "Account Holder Name is : VISHAL KUMAR RAJ \n",
      "\n",
      "Initial Account Balance is : 0\n",
      "Do you want to withdraw or deposit [d,w] : d\n",
      "\n",
      "Enter amount to be Deposited : 3456\n",
      "\n",
      "Amount Deposited is : 3456.0\n",
      "\n",
      "Net Avaliable balance is :  3456.0\n",
      "Do you want to withdraw or deposit again [y/n] : y\n",
      "Do you want to withdraw or deposit [d,w] : w\n",
      "\n",
      "Enter amount to be Withdrawn : 345\n",
      "\n",
      "You have Withdrew : 345.0\n",
      "\n",
      "Net Avaliable balance is :  3111.0\n"
     ]
    }
   ],
   "source": [
    "\n",
    "class BankAccount: \n",
    "\n",
    "    def __init__(self): \n",
    "\n",
    "        self.ownerName=\"VISHAL KUMAR RAJ \"\n",
    "        \n",
    "        self.Balance=0\n",
    "        \n",
    "    def deposit(self): \n",
    "        \n",
    "        Amount=float(input(\"\\nEnter amount to be Deposited : \")) \n",
    "        \n",
    "        self.Balance += Amount \n",
    "        \n",
    "        print(\"\\nAmount Deposited is :\",Amount) \n",
    "  \n",
    "    def withdraw(self): \n",
    "        \n",
    "        Amount = float(input(\"\\nEnter amount to be Withdrawn : \")) \n",
    "        \n",
    "        if self.Balance >= Amount: \n",
    "        \n",
    "            self.Balance -= Amount \n",
    "            \n",
    "            print(\"\\nYou have Withdrew :\", Amount) \n",
    "        \n",
    "        else: \n",
    "        \n",
    "            print(\"\\nInsufficient balance in the account...\") \n",
    "        \n",
    "            \n",
    "\n",
    "print(\"\\n---WELCOME TO BACK ACCOUNT PROGRAM---\")\n",
    "    \n",
    "BA = BankAccount()\n",
    "\n",
    "print(\"\\nAccount Holder Name is :\",BA.ownerName)\n",
    "    \n",
    "print(\"\\nInitial Account Balance is :\",BA.Balance)\n",
    "\n",
    "\n",
    "while True:\n",
    "    choice=input(\"Do you want to withdraw or deposit [d,w] : \").lower()\n",
    "    while choice not in ['d','w']:\n",
    "        choice=str(input(\"Enter d or w only : \"))\n",
    "    if choice=='d':\n",
    "        BA.deposit();\n",
    "    else:\n",
    "        BA.withdraw();\n",
    "    print(\"\\nNet Avaliable balance is : \",BA.Balance)\n",
    "    c=input(\"Do you want to withdraw or deposit again [y/n] : \").lower()\n",
    "    while c not in ['y','n']:\n",
    "        c=str(input(\"Enter y or n only : \"))\n",
    "    if c=='y':\n",
    "        continue\n",
    "    else:\n",
    "        break"
   ]
  },
  {
   "cell_type": "code",
   "execution_count": null,
   "metadata": {
    "collapsed": true
   },
   "outputs": [],
   "source": []
  }
 ],
 "metadata": {
  "kernelspec": {
   "display_name": "Python 3",
   "language": "python",
   "name": "python3"
  },
  "language_info": {
   "codemirror_mode": {
    "name": "ipython",
    "version": 3
   },
   "file_extension": ".py",
   "mimetype": "text/x-python",
   "name": "python",
   "nbconvert_exporter": "python",
   "pygments_lexer": "ipython3",
   "version": "3.7.7"
  }
 },
 "nbformat": 4,
 "nbformat_minor": 4
}
