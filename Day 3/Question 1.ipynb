{
 "cells": [
  {
   "cell_type": "markdown",
   "metadata": {},
   "source": [
    "# Question 1"
   ]
  },
  {
   "cell_type": "code",
   "execution_count": 4,
   "metadata": {},
   "outputs": [
    {
     "name": "stdin",
     "output_type": "stream",
     "text": [
      "Enter the value :  6000\n"
     ]
    },
    {
     "name": "stdout",
     "output_type": "stream",
     "text": [
      "\n",
      "Go around and try later.\n"
     ]
    }
   ],
   "source": [
    "# using if - elif - else statement\n",
    "\n",
    "value = int(input(\"Enter the value : \"))\n",
    " \n",
    "if value == 1000:\n",
    "    \n",
    "    print(\"\\nSafe to Land.\")\n",
    "    \n",
    "elif value > 1000 and value <= 5000:\n",
    "    \n",
    "    print(\"\\nCome down to 1000.\")\n",
    "    \n",
    "else:\n",
    "    \n",
    "    print(\"\\nGo around and try later.\")\n"
   ]
  },
  {
   "cell_type": "code",
   "execution_count": null,
   "metadata": {},
   "outputs": [],
   "source": []
  }
 ],
 "metadata": {
  "kernelspec": {
   "display_name": "Python 3",
   "language": "python",
   "name": "python3"
  },
  "language_info": {
   "codemirror_mode": {
    "name": "ipython",
    "version": 3
   },
   "file_extension": ".py",
   "mimetype": "text/x-python",
   "name": "python",
   "nbconvert_exporter": "python",
   "pygments_lexer": "ipython3",
   "version": "3.7.7"
  }
 },
 "nbformat": 4,
 "nbformat_minor": 4
}
